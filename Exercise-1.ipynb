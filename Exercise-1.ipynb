{
 "cells": [
  {
   "cell_type": "code",
   "execution_count": 4,
   "id": "c2f6c95d-3d7e-4bed-b559-c50eb3b99aaf",
   "metadata": {},
   "outputs": [],
   "source": [
    "ice_cream_rating = 8\n",
    "sleeping_rating = 9"
   ]
  },
  {
   "cell_type": "code",
   "execution_count": 13,
   "id": "da6e24a1-660c-411a-83e3-fb41c4029f23",
   "metadata": {},
   "outputs": [],
   "source": [
    "first_name = \"Theo\"\n",
    "last_name = \"Barklage Kauppinen\"\n",
    "my_name = first_name + \" \" + last_name"
   ]
  },
  {
   "cell_type": "code",
   "execution_count": 14,
   "id": "1fb6fab3-255a-43a8-af80-5c35e742b00f",
   "metadata": {},
   "outputs": [],
   "source": [
    "happiness_rating = (ice_cream_rating + sleeping_rating) / 2"
   ]
  },
  {
   "cell_type": "code",
   "execution_count": 25,
   "id": "ebc27aff-a785-4331-a202-abe09aa7f8f3",
   "metadata": {},
   "outputs": [
    {
     "name": "stdout",
     "output_type": "stream",
     "text": [
      "<class 'int'>\n",
      "<class 'str'>\n",
      "<class 'float'>\n"
     ]
    }
   ],
   "source": [
    "print(type(ice_cream_rating))\n",
    "print(type(first_name))\n",
    "print(type(happiness_rating))"
   ]
  },
  {
   "cell_type": "markdown",
   "id": "066f48fd-9411-4443-92a7-560486a6b2cf",
   "metadata": {},
   "source": [
    "Okay, I'm writing something which will be changed into a markdown cell"
   ]
  },
  {
   "cell_type": "code",
   "execution_count": 35,
   "id": "2ef8cbcf-a73f-4047-94c3-abafe2606f23",
   "metadata": {},
   "outputs": [
    {
     "name": "stdout",
     "output_type": "stream",
     "text": [
      "My name is Theo and I give eating ice cream a score 8 out of 10\n",
      "I am Theo Barklage Kauppinen and my sleeping enjoyment rating is 9 / 10!\n",
      "Based on the factors above, my happiness rating is 8.5 out of 10, or 85.0 %!\n"
     ]
    }
   ],
   "source": [
    "print(\n",
    "    \"My name is\", \n",
    "    first_name, \n",
    "    \"and I give eating ice cream a score\",\n",
    "    ice_cream_rating,\n",
    "    \"out of 10\")\n",
    "print(\n",
    "    \"I am\", \n",
    "    my_name,\n",
    "    \"and my sleeping enjoyment rating is\",\n",
    "    sleeping_rating,\n",
    "    \"/ 10!\")\n",
    "print(\n",
    "    \"Based on the factors above, my happiness rating is\",\n",
    "    happiness_rating,\n",
    "    \"out of 10, or\",\n",
    "    (happiness_rating * 10),\n",
    "    \"%!\")"
   ]
  },
  {
   "cell_type": "code",
   "execution_count": null,
   "id": "9e29537c-87af-49c8-b37d-08a854ef9078",
   "metadata": {},
   "outputs": [],
   "source": []
  }
 ],
 "metadata": {
  "kernelspec": {
   "display_name": "Python 3 (ipykernel)",
   "language": "python",
   "name": "python3"
  },
  "language_info": {
   "codemirror_mode": {
    "name": "ipython",
    "version": 3
   },
   "file_extension": ".py",
   "mimetype": "text/x-python",
   "name": "python",
   "nbconvert_exporter": "python",
   "pygments_lexer": "ipython3",
   "version": "3.13.2"
  }
 },
 "nbformat": 4,
 "nbformat_minor": 5
}
